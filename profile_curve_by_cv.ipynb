{
 "cells": [
  {
   "cell_type": "code",
   "execution_count": 1,
   "metadata": {
    "collapsed": true
   },
   "outputs": [],
   "source": [
    "import pandas as pd\n",
    "import numpy as np\n",
    "import cv2"
   ]
  },
  {
   "cell_type": "code",
   "execution_count": 2,
   "outputs": [],
   "source": [
    "df1 = pd.read_csv('graph2_1.csv')\n",
    "df2 = pd.read_csv('graph2_2.csv')\n",
    "df3 = pd.read_csv('graph2_3.csv')\n",
    "df4 = pd.read_csv('graph2_4.csv')\n",
    "\n",
    "array1 = np.array(df1)\n",
    "array2 = np.array(df2)\n",
    "array3 = np.array(df3)\n",
    "array4 = np.array(df4)\n",
    "\n",
    "arrays = np.concatenate((array1,array2,array3,array4))"
   ],
   "metadata": {
    "collapsed": false,
    "pycharm": {
     "name": "#%%\n"
    }
   }
  },
  {
   "cell_type": "code",
   "execution_count": 465,
   "outputs": [
    {
     "data": {
      "text/plain": "array([[-9.50553161, -1.21391089],\n       [-9.53723787, -1.19013478],\n       [-9.60273342, -1.14289455],\n       ...,\n       [-9.52443655, -5.79051821],\n       [-9.51097875, -5.73640197],\n       [-9.50553161, -5.70895875]])"
     },
     "execution_count": 465,
     "metadata": {},
     "output_type": "execute_result"
    }
   ],
   "source": [
    "arrays = np.array(pd.read_csv('graph1.csv'))\n",
    "arrays"
   ],
   "metadata": {
    "collapsed": false,
    "pycharm": {
     "name": "#%%\n"
    }
   }
  },
  {
   "cell_type": "code",
   "execution_count": 3,
   "outputs": [
    {
     "data": {
      "text/plain": "array([37.54260606, 52.60149074])"
     },
     "execution_count": 3,
     "metadata": {},
     "output_type": "execute_result"
    }
   ],
   "source": [
    "np.max(arrays, axis=0) - np.min(arrays, axis=0)"
   ],
   "metadata": {
    "collapsed": false,
    "pycharm": {
     "name": "#%%\n"
    }
   }
  },
  {
   "cell_type": "code",
   "execution_count": 4,
   "outputs": [
    {
     "data": {
      "text/plain": "[136, 351, 1546]"
     },
     "execution_count": 4,
     "metadata": {},
     "output_type": "execute_result"
    }
   ],
   "source": [
    "split_list = []\n",
    "split_list.append(len(array1))\n",
    "split_list.append((len(array1) + len(array2)))\n",
    "split_list.append((len(array1) + len(array2) + len(array3)))\n",
    "split_list"
   ],
   "metadata": {
    "collapsed": false,
    "pycharm": {
     "name": "#%%\n"
    }
   }
  },
  {
   "cell_type": "code",
   "execution_count": 5,
   "outputs": [
    {
     "data": {
      "text/plain": "((136, 2), (215, 2))"
     },
     "execution_count": 5,
     "metadata": {},
     "output_type": "execute_result"
    }
   ],
   "source": [
    "array1.shape, array2.shape"
   ],
   "metadata": {
    "collapsed": false,
    "pycharm": {
     "name": "#%%\n"
    }
   }
  },
  {
   "cell_type": "code",
   "execution_count": 6,
   "outputs": [],
   "source": [
    "def normalization(array):\n",
    "    return (array - np.min(array)) / (np.max(array) - np.min(array))\n",
    "\n",
    "def standardization(array, size):\n",
    "    width = np.max(array[:,0]) - np.min(array[:,0])\n",
    "    height = np.max(array[:,1]) - np.min(array[:,1])\n",
    "    rate = height / width\n",
    "    array = normalization(array)\n",
    "    array[:,0] = array[:,0] * size\n",
    "    array[:,1] = array[:,1] * size * rate\n",
    "    return array\n",
    "\n",
    "standard_arrays = standardization(arrays, 500)"
   ],
   "metadata": {
    "collapsed": false,
    "pycharm": {
     "name": "#%%\n"
    }
   }
  },
  {
   "cell_type": "code",
   "execution_count": 7,
   "outputs": [],
   "source": [
    "def make_graph(array):\n",
    "    graph = np.zeros((int(array[:,0].max()) + 1,\n",
    "                      int(array[:,1].max()) + 1), np.uint8)\n",
    "    for each in array:\n",
    "        graph[int(each[0]), int(each[1])] = 255\n",
    "    return graph\n",
    "\n",
    "graph = make_graph(standard_arrays)"
   ],
   "metadata": {
    "collapsed": false,
    "pycharm": {
     "name": "#%%\n"
    }
   }
  },
  {
   "cell_type": "code",
   "execution_count": 8,
   "outputs": [],
   "source": [
    "def ligature_graph(graph, pos1, pos2):\n",
    "    cv2.line(graph,\n",
    "             (int(pos1[1]), int(pos1[0])),\n",
    "             (int(pos2[1]), int(pos2[0])),\n",
    "             255,\n",
    "             1)\n",
    "\n",
    "def ligature_graph_by_array(graph, array):\n",
    "    for i in range(len(array) - 1):\n",
    "        ligature_graph(graph, array[i], array[i+1])\n",
    "\n",
    "ligature_graph_by_array(graph, standard_arrays[:split_list[0]])\n",
    "ligature_graph_by_array(graph, standard_arrays[split_list[0]:split_list[1]])\n",
    "ligature_graph_by_array(graph, standard_arrays[split_list[1]:split_list[2]])"
   ],
   "metadata": {
    "collapsed": false,
    "pycharm": {
     "name": "#%%\n"
    }
   }
  },
  {
   "cell_type": "code",
   "execution_count": 8,
   "outputs": [],
   "source": [
    "ligature_graph_by_array(graph, standard_arrays)"
   ],
   "metadata": {
    "collapsed": false,
    "pycharm": {
     "name": "#%%\n"
    }
   }
  },
  {
   "cell_type": "code",
   "execution_count": 9,
   "outputs": [
    {
     "data": {
      "text/plain": "True"
     },
     "execution_count": 9,
     "metadata": {},
     "output_type": "execute_result"
    }
   ],
   "source": [
    "cv2.imwrite('2.png', graph)"
   ],
   "metadata": {
    "collapsed": false,
    "pycharm": {
     "name": "#%%\n"
    }
   }
  },
  {
   "cell_type": "code",
   "execution_count": 10,
   "outputs": [],
   "source": [
    "graph = cv2.imread('2.png', cv2.IMREAD_GRAYSCALE)"
   ],
   "metadata": {
    "collapsed": false,
    "pycharm": {
     "name": "#%%\n"
    }
   }
  },
  {
   "cell_type": "code",
   "execution_count": 11,
   "outputs": [],
   "source": [
    "def get_profile_and_new_graph(graph):\n",
    "    big_kernel = np.ones((10,10), dtype=np.uint8)\n",
    "    tiny_kernel = np.ones((3,3), dtype=np.uint8)\n",
    "    new_graph = cv2.erode(graph, big_kernel)\n",
    "    eroded = cv2.erode(new_graph, tiny_kernel)\n",
    "    profile = new_graph - eroded\n",
    "    return profile, new_graph"
   ],
   "metadata": {
    "collapsed": false,
    "pycharm": {
     "name": "#%%\n"
    }
   }
  },
  {
   "cell_type": "code",
   "execution_count": 26,
   "outputs": [
    {
     "data": {
      "text/plain": "datetime.timedelta(microseconds=21343)"
     },
     "execution_count": 26,
     "metadata": {},
     "output_type": "execute_result"
    }
   ],
   "source": [
    "import datetime\n",
    "start = datetime.datetime.now()\n",
    "profile_graph_list = []\n",
    "new_graph = graph\n",
    "c = 0\n",
    "for i in range(20):\n",
    "    profile, new_graph = get_profile_and_new_graph(new_graph)\n",
    "    profile_graph_list.append(profile)\n",
    "end = datetime.datetime.now()\n",
    "end - start"
   ],
   "metadata": {
    "collapsed": false,
    "pycharm": {
     "name": "#%%\n"
    }
   }
  },
  {
   "cell_type": "code",
   "execution_count": 12,
   "outputs": [
    {
     "data": {
      "text/plain": "0.0"
     },
     "execution_count": 12,
     "metadata": {},
     "output_type": "execute_result"
    }
   ],
   "source": [
    "c = 0\n",
    "for i in range(1, 17):\n",
    "    contours, _ = cv2.findContours(profile_graph_list[i], cv2.RETR_TREE, cv2.CHAIN_APPROX_NONE)\n",
    "    length = 0\n",
    "    for contour in contours:\n",
    "        length += cv2.arcLength(contour, True)\n",
    "    c += length / 2\n",
    "c"
   ],
   "metadata": {
    "collapsed": false,
    "pycharm": {
     "name": "#%%\n"
    }
   }
  },
  {
   "cell_type": "code",
   "execution_count": 486,
   "outputs": [
    {
     "data": {
      "text/plain": "True"
     },
     "execution_count": 486,
     "metadata": {},
     "output_type": "execute_result"
    }
   ],
   "source": [
    "profile_graph = profile_graph_list[0]\n",
    "for i in range(1, len(profile_graph_list)-1):\n",
    "    profile_graph += profile_graph_list[i]\n",
    "\n",
    "cv2.imwrite('5.png', profile_graph)"
   ],
   "metadata": {
    "collapsed": false,
    "pycharm": {
     "name": "#%%\n"
    }
   }
  },
  {
   "cell_type": "code",
   "execution_count": null,
   "outputs": [],
   "source": [
    "\n"
   ],
   "metadata": {
    "collapsed": false,
    "pycharm": {
     "name": "#%%\n"
    }
   }
  }
 ],
 "metadata": {
  "kernelspec": {
   "display_name": "Python 3",
   "language": "python",
   "name": "python3"
  },
  "language_info": {
   "codemirror_mode": {
    "name": "ipython",
    "version": 2
   },
   "file_extension": ".py",
   "mimetype": "text/x-python",
   "name": "python",
   "nbconvert_exporter": "python",
   "pygments_lexer": "ipython2",
   "version": "2.7.6"
  }
 },
 "nbformat": 4,
 "nbformat_minor": 0
}
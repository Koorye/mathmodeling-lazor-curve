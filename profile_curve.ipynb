{
 "cells": [
  {
   "cell_type": "code",
   "execution_count": 1,
   "metadata": {
    "collapsed": true
   },
   "outputs": [],
   "source": [
    "import matplotlib.pyplot as plt\n",
    "import numpy as np\n",
    "import pandas as pd"
   ]
  },
  {
   "cell_type": "code",
   "execution_count": 2,
   "outputs": [
    {
     "data": {
      "text/plain": "             X         Y\n0    -9.505532 -1.213911\n1    -9.537238 -1.190135\n2    -9.602733 -1.142895\n3    -9.670953 -1.096052\n4    -9.741833 -1.049585\n...        ...       ...\n1189 -9.561457 -5.896860\n1190 -9.541278 -5.843891\n1191 -9.524437 -5.790518\n1192 -9.510979 -5.736402\n1193 -9.505532 -5.708959\n\n[1194 rows x 2 columns]",
      "text/html": "<div>\n<style scoped>\n    .dataframe tbody tr th:only-of-type {\n        vertical-align: middle;\n    }\n\n    .dataframe tbody tr th {\n        vertical-align: top;\n    }\n\n    .dataframe thead th {\n        text-align: right;\n    }\n</style>\n<table border=\"1\" class=\"dataframe\">\n  <thead>\n    <tr style=\"text-align: right;\">\n      <th></th>\n      <th>X</th>\n      <th>Y</th>\n    </tr>\n  </thead>\n  <tbody>\n    <tr>\n      <th>0</th>\n      <td>-9.505532</td>\n      <td>-1.213911</td>\n    </tr>\n    <tr>\n      <th>1</th>\n      <td>-9.537238</td>\n      <td>-1.190135</td>\n    </tr>\n    <tr>\n      <th>2</th>\n      <td>-9.602733</td>\n      <td>-1.142895</td>\n    </tr>\n    <tr>\n      <th>3</th>\n      <td>-9.670953</td>\n      <td>-1.096052</td>\n    </tr>\n    <tr>\n      <th>4</th>\n      <td>-9.741833</td>\n      <td>-1.049585</td>\n    </tr>\n    <tr>\n      <th>...</th>\n      <td>...</td>\n      <td>...</td>\n    </tr>\n    <tr>\n      <th>1189</th>\n      <td>-9.561457</td>\n      <td>-5.896860</td>\n    </tr>\n    <tr>\n      <th>1190</th>\n      <td>-9.541278</td>\n      <td>-5.843891</td>\n    </tr>\n    <tr>\n      <th>1191</th>\n      <td>-9.524437</td>\n      <td>-5.790518</td>\n    </tr>\n    <tr>\n      <th>1192</th>\n      <td>-9.510979</td>\n      <td>-5.736402</td>\n    </tr>\n    <tr>\n      <th>1193</th>\n      <td>-9.505532</td>\n      <td>-5.708959</td>\n    </tr>\n  </tbody>\n</table>\n<p>1194 rows × 2 columns</p>\n</div>"
     },
     "execution_count": 2,
     "metadata": {},
     "output_type": "execute_result"
    }
   ],
   "source": [
    "graph = pd.read_csv('graph1.csv')\n",
    "graph"
   ],
   "metadata": {
    "collapsed": false,
    "pycharm": {
     "name": "#%%\n"
    }
   }
  },
  {
   "cell_type": "code",
   "execution_count": 6,
   "outputs": [
    {
     "data": {
      "text/plain": "<Figure size 432x288 with 1 Axes>",
      "image/png": "[encoded data removed]"
     },
     "metadata": {
      "needs_background": "light"
     },
     "output_type": "display_data"
    }
   ],
   "source": [
    "plt.axis('equal')\n",
    "plt.scatter(np.array(graph['X']), np.array(graph['Y']), s=0.1)\n",
    "plt.savefig('预处理前.png')"
   ],
   "metadata": {
    "collapsed": false,
    "pycharm": {
     "name": "#%%\n"
    }
   }
  },
  {
   "cell_type": "code",
   "execution_count": 7,
   "outputs": [],
   "source": [
    "def cal_distance(pos_1, pos_2):\n",
    "    return np.sqrt((pos_1[0] - pos_2[0]) ** 2 + (pos_1[1] - pos_2[1]) ** 2)"
   ],
   "metadata": {
    "collapsed": false,
    "pycharm": {
     "name": "#%%\n"
    }
   }
  },
  {
   "cell_type": "code",
   "execution_count": 8,
   "outputs": [],
   "source": [
    "def cal_array_distance(array):\n",
    "    dis = 0\n",
    "    for i in range(len(array)-1):\n",
    "        dis += cal_distance(array[i], array[i+1])\n",
    "    return dis"
   ],
   "metadata": {
    "collapsed": false,
    "pycharm": {
     "name": "#%%\n"
    }
   }
  },
  {
   "cell_type": "code",
   "execution_count": 9,
   "outputs": [],
   "source": [
    "total_pos_array = np.array(graph)"
   ],
   "metadata": {
    "collapsed": false,
    "pycharm": {
     "name": "#%%\n"
    }
   }
  },
  {
   "cell_type": "code",
   "execution_count": 48,
   "outputs": [],
   "source": [
    "def pre_process_array(array):\n",
    "    end = len(array) - 1\n",
    "    index = 0\n",
    "    while index < end:\n",
    "        while cal_distance(array[index], array[index+1]) > 0.8:\n",
    "            mean_x = (array[index][0] + array[index+1][0]) / 2\n",
    "            mean_y = (array[index][1] + array[index+1][1]) / 2\n",
    "            array = np.insert(array, index + 1, np.array([mean_x, mean_y]), axis=0)\n",
    "        index += 1\n",
    "        end = len(array) - 1\n",
    "\n",
    "    end = len(array) - 1\n",
    "    index = 0\n",
    "    while index < end:\n",
    "        while cal_distance(array[index], array[index+1]) < 0.4:\n",
    "            array = np.delete(array, index + 1, axis=0)\n",
    "            end = len(array) - 1\n",
    "            if index >= end:\n",
    "                break\n",
    "        index += 1\n",
    "        end = len(array) - 1\n",
    "    return array"
   ],
   "metadata": {
    "collapsed": false,
    "pycharm": {
     "name": "#%%\n"
    }
   }
  },
  {
   "cell_type": "code",
   "execution_count": 106,
   "outputs": [],
   "source": [
    "total_pos_array = pre_process_array(total_pos_array)"
   ],
   "metadata": {
    "collapsed": false,
    "pycharm": {
     "name": "#%%\n"
    }
   }
  },
  {
   "cell_type": "code",
   "execution_count": 109,
   "outputs": [
    {
     "data": {
      "text/plain": "<Figure size 432x288 with 1 Axes>",
      "image/png": "[encoded data removed]"
     },
     "metadata": {
      "needs_background": "light"
     },
     "output_type": "display_data"
    }
   ],
   "source": [
    "plt.axis('equal')\n",
    "plt.scatter(total_pos_array[:,0], total_pos_array[:,1], s=0.2)\n",
    "plt.savefig('预处理后.png')"
   ],
   "metadata": {
    "collapsed": false,
    "pycharm": {
     "name": "#%%\n"
    }
   }
  },
  {
   "cell_type": "code",
   "execution_count": 9,
   "outputs": [],
   "source": [
    "def get_adjoin_pos_array_by_index(pos_array, index, num):\n",
    "    if index - num < 0:\n",
    "        array = np.concatenate((pos_array[len(pos_array) + index - num:],\n",
    "                                pos_array[:index + num+1]))\n",
    "    elif index + num > len(pos_array) - 1:\n",
    "        array = np.concatenate((pos_array[:num - (len(pos_array) - index)],\n",
    "                                pos_array[index - num -1:]))\n",
    "    else:\n",
    "        array = pos_array[index - num:index + num + 1]\n",
    "\n",
    "    return array"
   ],
   "metadata": {
    "collapsed": false,
    "pycharm": {
     "name": "#%%\n"
    }
   }
  },
  {
   "cell_type": "code",
   "execution_count": 10,
   "outputs": [],
   "source": [
    "def cal_gradient(pos_array):\n",
    "    mat = np.mat(pos_array)\n",
    "    x = np.array(np.array(mat[:,0]).flatten())\n",
    "    y = np.array(np.array(mat[:,1]).flatten())\n",
    "    z = np.polyfit(x, y, 1)\n",
    "    p = np.poly1d(z)\n",
    "    gradient = p.deriv()\n",
    "    return gradient(pos_array[int((len(pos_array) - 1) / 2)][0])"
   ],
   "metadata": {
    "collapsed": false,
    "pycharm": {
     "name": "#%%\n"
    }
   }
  },
  {
   "cell_type": "code",
   "execution_count": 11,
   "outputs": [],
   "source": [
    "class Point:\n",
    "    def __init__(self, x, y):\n",
    "        self.x = x\n",
    "        self.y = y\n",
    "\n",
    "#Python3.6\n",
    "def cross(p1,p2,p3):#跨立实验\n",
    "    x1=p2.x-p1.x\n",
    "    y1=p2.y-p1.y\n",
    "    x2=p3.x-p1.x\n",
    "    y2=p3.y-p1.y\n",
    "    return x1*y2-x2*y1\n",
    "\n",
    "def IsIntersec(p1,p2,p3,p4): #判断两线段是否相交\n",
    "    #快速排斥，以l1、l2为对角线的矩形必相交，否则两线段不相交\n",
    "    if(max(p1.x,p2.x)>=min(p3.x,p4.x)    #矩形1最右端大于矩形2最左端\n",
    "    and max(p3.x,p4.x)>=min(p1.x,p2.x)   #矩形2最右端大于矩形最左端\n",
    "    and max(p1.y,p2.y)>=min(p3.y,p4.y)   #矩形1最高端大于矩形最低端\n",
    "    and max(p3.y,p4.y)>=min(p1.y,p2.y)): #矩形2最高端大于矩形最低端\n",
    "\n",
    "    #若通过快速排斥则进行跨立实验\n",
    "        if(cross(p1,p2,p3)*cross(p1,p2,p4)<=0\n",
    "           and cross(p3,p4,p1)*cross(p3,p4,p2)<=0):\n",
    "            D=1\n",
    "        else:\n",
    "            D=0\n",
    "    else:\n",
    "        D=0\n",
    "    return D"
   ],
   "metadata": {
    "collapsed": false,
    "pycharm": {
     "name": "#%%\n"
    }
   }
  },
  {
   "cell_type": "code",
   "execution_count": 12,
   "outputs": [],
   "source": [
    "def cross_prod(p, q):\n",
    "    return p[0]*q[1]-p[1]*q[0]\n",
    "\n",
    "def judge_intersect(line_1, line_2):\n",
    "    if cross_prod(line_1[0]-line_2[0], line_2[1]-line_2[0]) * cross_prod(line_2[1]-line_2[0], line_1[1]-line_2[0]) >= 0:\n",
    "        return True\n",
    "    else:\n",
    "        return False"
   ],
   "metadata": {
    "collapsed": false,
    "pycharm": {
     "name": "#%%\n"
    }
   }
  },
  {
   "cell_type": "code",
   "execution_count": 13,
   "outputs": [
    {
     "data": {
      "text/plain": "True"
     },
     "execution_count": 13,
     "metadata": {},
     "output_type": "execute_result"
    }
   ],
   "source": [
    "judge_intersect(np.array([[0,0],[1,1]]), np.array([[0,0],[1,2]]))"
   ],
   "metadata": {
    "collapsed": false,
    "pycharm": {
     "name": "#%%\n"
    }
   }
  },
  {
   "cell_type": "code",
   "execution_count": 14,
   "outputs": [],
   "source": [
    "def judge_inner_point(pos_1, pos_2, pos_array):\n",
    "    intersect_num = 0\n",
    "    for i in range(len(pos_array) - 1):\n",
    "        if IsIntersec(Point(pos_1[0], pos_1[1]), Point(pos_2[0], pos_2[1]),\n",
    "                      Point(pos_array[i][0], pos_array[i][1]),\n",
    "                      Point(pos_array[i+1][0], pos_array[i+1][1])):\n",
    "            intersect_num += 1\n",
    "    if intersect_num % 2 == 0:\n",
    "        return True\n",
    "    else:\n",
    "        return False"
   ],
   "metadata": {
    "collapsed": false,
    "pycharm": {
     "name": "#%%\n"
    }
   }
  },
  {
   "cell_type": "code",
   "execution_count": 15,
   "outputs": [],
   "source": [
    "def judge_valid_point(pos, pos_array, distance):\n",
    "    for each in pos_array:\n",
    "        if cal_distance(pos, each) < 0.9 * distance:\n",
    "            return False\n",
    "    return True"
   ],
   "metadata": {
    "collapsed": false,
    "pycharm": {
     "name": "#%%\n"
    }
   }
  },
  {
   "cell_type": "code",
   "execution_count": 16,
   "outputs": [],
   "source": [
    "def get_new_profile_point(pos_array, distance, ptr_pos, valid_pos_array):\n",
    "    k = cal_gradient(pos_array)\n",
    "    k = - 1 / k\n",
    "    pow_distance_x = 1\n",
    "    pow_distance_y = np.power(k, 2)\n",
    "    sum = pow_distance_x + pow_distance_y\n",
    "    pow_distance_x, pow_distance_y = pow_distance_x / sum, pow_distance_y / sum\n",
    "    distance_x = np.sqrt(pow_distance_x) * distance\n",
    "    distance_y = np.sqrt(pow_distance_y) * distance\n",
    "    pos = pos_array[int((len(pos_array) - 1) / 2)]\n",
    "    if k >= 0:\n",
    "        point_0 = np.array([pos[0] - distance_x, pos[1] - distance_y])\n",
    "        point_1 = np.array([pos[0] + distance_x, pos[1] + distance_y])\n",
    "    else:\n",
    "        point_0 = np.array([pos[0] - distance_x, pos[1] + distance_y])\n",
    "        point_1 = np.array([pos[0] + distance_x, pos[1] - distance_y])\n",
    "\n",
    "    if judge_inner_point(ptr_pos, point_0, valid_pos_array) \\\n",
    "            and judge_valid_point(point_0, valid_pos_array, distance):\n",
    "        return point_0\n",
    "    elif judge_inner_point(ptr_pos, point_1, valid_pos_array) \\\n",
    "            and judge_valid_point(point_1, valid_pos_array, distance):\n",
    "        return point_1\n",
    "    else:\n",
    "        return None"
   ],
   "metadata": {
    "collapsed": false,
    "pycharm": {
     "name": "#%%\n"
    }
   }
  },
  {
   "cell_type": "code",
   "execution_count": 52,
   "outputs": [
    {
     "data": {
      "text/plain": "datetime.timedelta(microseconds=149610)"
     },
     "execution_count": 52,
     "metadata": {},
     "output_type": "execute_result"
    }
   ],
   "source": [
    "import datetime\n",
    "\n",
    "valid_array = get_adjoin_pos_array_by_index(total_pos_array,500,500)\n",
    "start = datetime.datetime.now()\n",
    "judge_inner_point([0,0],[1,1], valid_array)\n",
    "end = datetime.datetime.now()\n",
    "(end - start) * 30"
   ],
   "metadata": {
    "collapsed": false,
    "pycharm": {
     "name": "#%%\n"
    }
   }
  },
  {
   "cell_type": "code",
   "execution_count": 29,
   "outputs": [
    {
     "data": {
      "text/plain": "datetime.timedelta(seconds=1, microseconds=213909)"
     },
     "execution_count": 29,
     "metadata": {},
     "output_type": "execute_result"
    }
   ],
   "source": [
    "import datetime\n",
    "\n",
    "start = datetime.datetime.now()\n",
    "new_pos_array = []\n",
    "ptr_pos = total_pos_array[0]\n",
    "total_pos_array = pre_process_array(total_pos_array)\n",
    "for i in range(len(total_pos_array)):\n",
    "    array = get_adjoin_pos_array_by_index(total_pos_array, i, 1)\n",
    "    valid_array = get_adjoin_pos_array_by_index(total_pos_array, i, 20)\n",
    "    new_pos = get_new_profile_point(array, 1, ptr_pos, valid_array)\n",
    "    if new_pos is not None:\n",
    "        if cal_distance(new_pos, ptr_pos) < 1.8:\n",
    "            ptr_pos = new_pos\n",
    "            new_pos_array.append(new_pos)\n",
    "\n",
    "new_pos_array = np.array(new_pos_array)\n",
    "end = datetime.datetime.now()\n",
    "end - start"
   ],
   "metadata": {
    "collapsed": false,
    "pycharm": {
     "name": "#%%\n"
    }
   }
  },
  {
   "cell_type": "code",
   "execution_count": null,
   "outputs": [],
   "source": [
    "# plt.scatter(total_pos_array[:,0], total_pos_array[:,1], s=0.2, c='blue', label='Original')\n",
    "# plt.scatter(new_pos_array[:,0], new_pos_array[:,1], s=0.2, c='red', label='New')\n",
    "# plt.axis('equal')\n",
    "# plt.legend()\n",
    "# plt.savefig('1.png')"
   ],
   "metadata": {
    "collapsed": false,
    "pycharm": {
     "name": "#%%\n"
    }
   }
  },
  {
   "cell_type": "code",
   "execution_count": null,
   "outputs": [],
   "source": [
    "total_pos_array = new_pos_array\n"
   ],
   "metadata": {
    "collapsed": false,
    "pycharm": {
     "name": "#%%\n"
    }
   }
  }
 ],
 "metadata": {
  "kernelspec": {
   "display_name": "Python 3",
   "language": "python",
   "name": "python3"
  },
  "language_info": {
   "codemirror_mode": {
    "name": "ipython",
    "version": 2
   },
   "file_extension": ".py",
   "mimetype": "text/x-python",
   "name": "python",
   "nbconvert_exporter": "python",
   "pygments_lexer": "ipython2",
   "version": "2.7.6"
  }
 },
 "nbformat": 4,
 "nbformat_minor": 0
}